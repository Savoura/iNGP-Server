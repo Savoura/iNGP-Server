{
  "cells": [
    {
      "cell_type": "markdown",
      "metadata": {
        "id": "view-in-github",
        "colab_type": "text"
      },
      "source": [
        "<a href=\"https://colab.research.google.com/github/Savoura/iNGP-Server/blob/main/Instant_NGP_Server.ipynb\" target=\"_parent\"><img src=\"https://colab.research.google.com/assets/colab-badge.svg\" alt=\"Open In Colab\"/></a>"
      ]
    },
    {
      "cell_type": "code",
      "execution_count": null,
      "metadata": {
        "id": "zONlmzm-z52P"
      },
      "outputs": [],
      "source": [
        "!nvidia-smi"
      ]
    },
    {
      "cell_type": "code",
      "execution_count": null,
      "metadata": {
        "id": "eo7vAYvJ0PgL"
      },
      "outputs": [],
      "source": [
        "!apt update && apt install build-essential git python3-dev python3-pip libopenexr-dev libxi-dev libglfw3-dev libglew-dev libomp-dev libxinerama-dev libxcursor-dev\n",
        "!pip install --upgrade cmake"
      ]
    },
    {
      "cell_type": "code",
      "execution_count": null,
      "metadata": {
        "id": "3xrpG1720oFw"
      },
      "outputs": [],
      "source": [
        "!git clone --recursive https://github.com/nvlabs/instant-ngp\n",
        "%cd instant-ngp"
      ]
    },
    {
      "cell_type": "code",
      "execution_count": null,
      "metadata": {
        "id": "lmTVhb_4sxJK"
      },
      "outputs": [],
      "source": [
        "%mkdir resources\n",
        "%mkdir resources/data"
      ]
    },
    {
      "cell_type": "code",
      "execution_count": null,
      "metadata": {
        "id": "pSQYGGie1V5Y"
      },
      "outputs": [],
      "source": [
        "#%env TCNN_CUDA_ARCHITECTURES=75\n",
        "!cmake . -B build -DNGP_BUILD_WITH_GUI=OFF"
      ]
    },
    {
      "cell_type": "code",
      "execution_count": null,
      "metadata": {
        "colab": {
          "base_uri": "https://localhost:8080/"
        },
        "id": "G1mDKF3n1hWr",
        "outputId": "a5d3cdea-e444-40e1-cd4a-149bea93dfa7"
      },
      "outputs": [
        {
          "output_type": "stream",
          "name": "stdout",
          "text": [
            "[ 55%] \u001b[32mBuilding CUDA object CMakeFiles/ngp.dir/src/marching_cubes.cu.o\u001b[0m\n",
            "[ 57%] \u001b[32mBuilding CUDA object CMakeFiles/ngp.dir/src/nerf_loader.cu.o\u001b[0m\n",
            "[ 60%] \u001b[32mBuilding CUDA object CMakeFiles/ngp.dir/src/render_buffer.cu.o\u001b[0m\n",
            "[ 63%] \u001b[32mBuilding CUDA object CMakeFiles/ngp.dir/src/testbed.cu.o\u001b[0m\n",
            "[ 65%] \u001b[32mBuilding CUDA object CMakeFiles/ngp.dir/src/testbed_image.cu.o\u001b[0m\n",
            "[ 68%] \u001b[32mBuilding CUDA object CMakeFiles/ngp.dir/src/testbed_nerf.cu.o\u001b[0m\n",
            "\u001b[01m\u001b[0m\u001b[01m/content/instant-ngp/src/testbed_nerf.cu(1854)\u001b[0m: \u001b[01;35mwarning\u001b[0m #177-D: variable \u001b[01m\"resolution\"\u001b[0m was declared but never referenced\n",
            "   auto resolution = render_buffer.resolution;\n",
            "        ^\n",
            "\n",
            "\u001b[01;36m\u001b[0m\u001b[01;36mRemark\u001b[0m: The warnings can be suppressed with \"-diag-suppress <warning-number>\"\n",
            "\n",
            "[ 71%] \u001b[32mBuilding CUDA object CMakeFiles/ngp.dir/src/testbed_sdf.cu.o\u001b[0m\n",
            "[ 73%] \u001b[32mBuilding CUDA object CMakeFiles/ngp.dir/src/testbed_volume.cu.o\u001b[0m\n",
            "[ 76%] \u001b[32mBuilding CXX object CMakeFiles/ngp.dir/src/thread_pool.cpp.o\u001b[0m\n",
            "[ 78%] \u001b[32mBuilding CUDA object CMakeFiles/ngp.dir/src/tinyexr_wrapper.cu.o\u001b[0m\n",
            "[ 81%] \u001b[32mBuilding CUDA object CMakeFiles/ngp.dir/src/tinyobj_loader_wrapper.cu.o\u001b[0m\n",
            "[ 84%] \u001b[32mBuilding CUDA object CMakeFiles/ngp.dir/src/triangle_bvh.cu.o\u001b[0m\n",
            "[ 86%] \u001b[32m\u001b[1mLinking CUDA device code CMakeFiles/ngp.dir/cmake_device_link.o\u001b[0m\n",
            "[ 89%] \u001b[32m\u001b[1mLinking CXX static library libngp.a\u001b[0m\n",
            "[ 89%] Built target ngp\n",
            "[ 94%] \u001b[32mBuilding CUDA object CMakeFiles/instant-ngp.dir/src/main.cu.o\u001b[0m\n",
            "[ 94%] \u001b[32mBuilding CUDA object CMakeFiles/pyngp.dir/src/python_api.cu.o\u001b[0m\n",
            "[ 97%] \u001b[32m\u001b[1mLinking CXX executable instant-ngp\u001b[0m\n",
            "[ 97%] Built target instant-ngp\n",
            "/content/instant-ngp/dependencies/tiny-cuda-nn/include/tiny-cuda-nn/vec_pybind11.h: In instantiation of ‘\u001b[01m\u001b[Kbool pybind11::detail::type_caster<tcnn::tvec<T, N>, void>::load(pybind11::handle, bool) [with T = float; unsigned int N = 3]\u001b[m\u001b[K’:\n",
            "\u001b[01m\u001b[K/content/instant-ngp/dependencies/pybind11/include/pybind11/cast.h:1427:47:\u001b[m\u001b[K   required from ‘\u001b[01m\u001b[Kbool pybind11::detail::argument_loader<Args>::load_impl_sequence(pybind11::detail::function_call&, std::index_sequence<Is ...>) [with long unsigned int ...Is = {0, 1}; Args = {const ngp::BoundingBox*, const tcnn::tvec<float, 3, 4>&}; std::index_sequence<Is ...> = std::integer_sequence<long unsigned int, 0, 1>]\u001b[m\u001b[K’\n",
            "\u001b[01m\u001b[K/content/instant-ngp/dependencies/pybind11/include/pybind11/cast.h:1401:64:\u001b[m\u001b[K   required from ‘\u001b[01m\u001b[Kbool pybind11::detail::argument_loader<Args>::load_args(pybind11::detail::function_call&) [with Args = {const ngp::BoundingBox*, const tcnn::tvec<float, 3, 4>&}]\u001b[m\u001b[K’\n",
            "\u001b[01m\u001b[K/content/instant-ngp/dependencies/pybind11/include/pybind11/pybind11.h:228:30:\u001b[m\u001b[K   required from ‘\u001b[01m\u001b[Kvoid pybind11::cpp_function::initialize(Func&&, Return (*)(Args ...), const Extra& ...) [with Func = pybind11::cpp_function::cpp_function<bool, ngp::BoundingBox, const tcnn::tvec<float, 3, 4>&, pybind11::name, pybind11::is_method, pybind11::sibling>(bool (ngp::BoundingBox::*)(const tcnn::tvec<float, 3, 4>&) const, const pybind11::name&, const pybind11::is_method&, const pybind11::sibling&)::<lambda(const ngp::BoundingBox*, const tcnn::tvec<float, 3, 4>&)>; Return = bool; Args = {const ngp::BoundingBox*, const tcnn::tvec<float, 3, 4>&}; Extra = {pybind11::name, pybind11::is_method, pybind11::sibling}]\u001b[m\u001b[K’\n",
            "\u001b[01m\u001b[K/content/instant-ngp/dependencies/pybind11/include/pybind11/pybind11.h:130:11:\u001b[m\u001b[K   required from ‘\u001b[01m\u001b[Kpybind11::cpp_function::cpp_function(Return (Class::*)(Arg ...) const, const Extra& ...) [with Return = bool; Class = ngp::BoundingBox; Arg = {const tcnn::tvec<float, 3, 4>&}; Extra = {pybind11::name, pybind11::is_method, pybind11::sibling}]\u001b[m\u001b[K’\n",
            "\u001b[01m\u001b[K/content/instant-ngp/dependencies/pybind11/include/pybind11/pybind11.h:1558:14:\u001b[m\u001b[K   required from ‘\u001b[01m\u001b[Kpybind11::class_<type_, options>& pybind11::class_<type_, options>::def(const char*, Func&&, const Extra& ...) [with Func = bool (ngp::BoundingBox::*)(const tcnn::tvec<float, 3, 4>&) const; Extra = {}; type_ = ngp::BoundingBox; options = {}]\u001b[m\u001b[K’\n",
            "\u001b[01m\u001b[K/content/instant-ngp/src/python_api.cu:354:193:\u001b[m\u001b[K   required from here\n",
            "\u001b[01m\u001b[K/content/instant-ngp/dependencies/tiny-cuda-nn/include/tiny-cuda-nn/vec_pybind11.h:52:33:\u001b[m\u001b[K \u001b[01;35m\u001b[Kwarning: \u001b[m\u001b[K‘\u001b[01m\u001b[Kpybind11::array_t<T, ExtraFlags>::array_t(pybind11::handle, bool) [with T = float; int ExtraFlags = 16]\u001b[m\u001b[K’ is deprecated: Use array_t<T>::ensure() instead [\u001b[01;35m\u001b[K\u001b]8;;https://gcc.gnu.org/onlinedocs/gcc/Warning-Options.html#index-Wdeprecated-declarations\u0007-Wdeprecated-declarations\u001b]8;;\u0007\u001b[m\u001b[K]\n",
            "   52 |                 array_t<Scalar> \u001b[01;35m\u001b[Kbuf\u001b[m\u001b[K(src, true);\n",
            "      |                                 \u001b[01;35m\u001b[K^~~\u001b[m\u001b[K\n",
            "\u001b[01m\u001b[K/content/instant-ngp/dependencies/pybind11/include/pybind11/numpy.h:1037:1:\u001b[m\u001b[K \u001b[01;36m\u001b[Knote: \u001b[m\u001b[Kdeclared here\n",
            " 1037 | \u001b[01;36m\u001b[K    arr\u001b[m\u001b[Kay_t(handle h, bool is_borrowed) : array(raw_array_t(h.ptr()), stolen_t{}) {\n",
            "      | \u001b[01;36m\u001b[K^\u001b[m\u001b[K   \u001b[01;36m\u001b[K~~~\u001b[m\u001b[K\n",
            "\u001b[01m\u001b[K/content/instant-ngp/dependencies/tiny-cuda-nn/include/tiny-cuda-nn/vec_pybind11.h:53:29:\u001b[m\u001b[K \u001b[01;35m\u001b[Kwarning: \u001b[m\u001b[K‘\u001b[01m\u001b[Kbool pybind11::array::check() const\u001b[m\u001b[K’ is deprecated: Use py::isinstance<py::python_type>(obj) instead [\u001b[01;35m\u001b[K\u001b]8;;https://gcc.gnu.org/onlinedocs/gcc/Warning-Options.html#index-Wdeprecated-declarations\u0007-Wdeprecated-declarations\u001b]8;;\u0007\u001b[m\u001b[K]\n",
            "   53 |                 if \u001b[01;35m\u001b[K(!buf.check\u001b[m\u001b[K()) {\n",
            "      |                    \u001b[01;35m\u001b[K~~~~~~~~~^~\u001b[m\u001b[K\n",
            "\u001b[01m\u001b[K/content/instant-ngp/dependencies/pybind11/include/pybind11/numpy.h:682:385:\u001b[m\u001b[K \u001b[01;36m\u001b[Knote: \u001b[m\u001b[Kdeclared here\n",
            "  682 |     PYBIND11_OBJECT_CVT(array, buffer, detail::npy_api::get().PyArray_Check_, raw_array)\n",
            "      |                                                                                                                                                                                                                                                                                                                                                                                                 \u001b[01;36m\u001b[K^\u001b[m\u001b[K    \n",
            "/content/instant-ngp/dependencies/tiny-cuda-nn/include/tiny-cuda-nn/vec_pybind11.h: In instantiation of ‘\u001b[01m\u001b[Kbool pybind11::detail::type_caster<tcnn::tvec<T, N>, void>::load(pybind11::handle, bool) [with T = int; unsigned int N = 3]\u001b[m\u001b[K’:\n",
            "\u001b[01m\u001b[K/content/instant-ngp/dependencies/pybind11/include/pybind11/cast.h:1427:47:\u001b[m\u001b[K   required from ‘\u001b[01m\u001b[Kbool pybind11::detail::argument_loader<Args>::load_impl_sequence(pybind11::detail::function_call&, std::index_sequence<Is ...>) [with long unsigned int ...Is = {0, 1, 2, 3, 4, 5}; Args = {ngp::Testbed*, const filesystem::path&, tcnn::tvec<int, 3, 4>, ngp::BoundingBox, float, bool}; std::index_sequence<Is ...> = std::integer_sequence<long unsigned int, 0, 1, 2, 3, 4, 5>]\u001b[m\u001b[K’\n",
            "\u001b[01m\u001b[K/content/instant-ngp/dependencies/pybind11/include/pybind11/cast.h:1401:64:\u001b[m\u001b[K   required from ‘\u001b[01m\u001b[Kbool pybind11::detail::argument_loader<Args>::load_args(pybind11::detail::function_call&) [with Args = {ngp::Testbed*, const filesystem::path&, tcnn::tvec<int, 3, 4>, ngp::BoundingBox, float, bool}]\u001b[m\u001b[K’\n",
            "\u001b[01m\u001b[K/content/instant-ngp/dependencies/pybind11/include/pybind11/pybind11.h:228:30:\u001b[m\u001b[K   required from ‘\u001b[01m\u001b[Kvoid pybind11::cpp_function::initialize(Func&&, Return (*)(Args ...), const Extra& ...) [with Func = pybind11::cpp_function::cpp_function<void, ngp::Testbed, const filesystem::path&, tcnn::tvec<int, 3, 4>, ngp::BoundingBox, float, bool, pybind11::name, pybind11::is_method, pybind11::sibling, pybind11::arg, pybind11::arg_v, pybind11::arg_v, pybind11::arg_v, pybind11::arg_v, char [341]>(void (ngp::Testbed::*)(const filesystem::path&, tcnn::tvec<int, 3, 4>, ngp::BoundingBox, float, bool), const pybind11::name&, const pybind11::is_method&, const pybind11::sibling&, const pybind11::arg&, const pybind11::arg_v&, const pybind11::arg_v&, const pybind11::arg_v&, const pybind11::arg_v&, const char (&)[341])::<lambda(ngp::Testbed*, const filesystem::path&, tcnn::tvec<int, 3, 4>, ngp::BoundingBox, float, bool)>; Return = void; Args = {ngp::Testbed*, const filesystem::path&, tcnn::tvec<int, 3, 4>, ngp::BoundingBox, float, bool}; Extra = {pybind11::name, pybind11::is_method, pybind11::sibling, pybind11::arg, pybind11::arg_v, pybind11::arg_v, pybind11::arg_v, pybind11::arg_v, char [341]}]\u001b[m\u001b[K’\n",
            "\u001b[01m\u001b[K/content/instant-ngp/dependencies/pybind11/include/pybind11/pybind11.h:108:11:\u001b[m\u001b[K   required from ‘\u001b[01m\u001b[Kpybind11::cpp_function::cpp_function(Return (Class::*)(Arg ...), const Extra& ...) [with Return = void; Class = ngp::Testbed; Arg = {const filesystem::path&, tcnn::tvec<int, 3, 4>, ngp::BoundingBox, float, bool}; Extra = {pybind11::name, pybind11::is_method, pybind11::sibling, pybind11::arg, pybind11::arg_v, pybind11::arg_v, pybind11::arg_v, pybind11::arg_v, char [341]}]\u001b[m\u001b[K’\n",
            "\u001b[01m\u001b[K/content/instant-ngp/dependencies/pybind11/include/pybind11/pybind11.h:1558:14:\u001b[m\u001b[K   required from ‘\u001b[01m\u001b[Kpybind11::class_<type_, options>& pybind11::class_<type_, options>::def(const char*, Func&&, const Extra& ...) [with Func = void (ngp::Testbed::*)(const filesystem::path&, tcnn::tvec<int, 3, 4>, ngp::BoundingBox, float, bool); Extra = {pybind11::arg, pybind11::arg_v, pybind11::arg_v, pybind11::arg_v, pybind11::arg_v, char [341]}; type_ = ngp::Testbed; options = {}]\u001b[m\u001b[K’\n",
            "\u001b[01m\u001b[K/content/instant-ngp/src/python_api.cu:383:0:\u001b[m\u001b[K   required from here\n",
            "\u001b[01m\u001b[K/content/instant-ngp/dependencies/tiny-cuda-nn/include/tiny-cuda-nn/vec_pybind11.h:52:33:\u001b[m\u001b[K \u001b[01;35m\u001b[Kwarning: \u001b[m\u001b[K‘\u001b[01m\u001b[Kpybind11::array_t<T, ExtraFlags>::array_t(pybind11::handle, bool) [with T = int; int ExtraFlags = 16]\u001b[m\u001b[K’ is deprecated: Use array_t<T>::ensure() instead [\u001b[01;35m\u001b[K\u001b]8;;https://gcc.gnu.org/onlinedocs/gcc/Warning-Options.html#index-Wdeprecated-declarations\u0007-Wdeprecated-declarations\u001b]8;;\u0007\u001b[m\u001b[K]\n",
            "   52 |                 array_t<Scalar> \u001b[01;35m\u001b[Kbuf\u001b[m\u001b[K(src, true);\n",
            "      |                                 \u001b[01;35m\u001b[K^~~\u001b[m\u001b[K\n",
            "\u001b[01m\u001b[K/content/instant-ngp/dependencies/pybind11/include/pybind11/numpy.h:1037:1:\u001b[m\u001b[K \u001b[01;36m\u001b[Knote: \u001b[m\u001b[Kdeclared here\n",
            " 1037 | \u001b[01;36m\u001b[K    arr\u001b[m\u001b[Kay_t(handle h, bool is_borrowed) : array(raw_array_t(h.ptr()), stolen_t{}) {\n",
            "      | \u001b[01;36m\u001b[K^\u001b[m\u001b[K   \u001b[01;36m\u001b[K~~~\u001b[m\u001b[K\n",
            "\u001b[01m\u001b[K/content/instant-ngp/dependencies/tiny-cuda-nn/include/tiny-cuda-nn/vec_pybind11.h:53:29:\u001b[m\u001b[K \u001b[01;35m\u001b[Kwarning: \u001b[m\u001b[K‘\u001b[01m\u001b[Kbool pybind11::array::check() const\u001b[m\u001b[K’ is deprecated: Use py::isinstance<py::python_type>(obj) instead [\u001b[01;35m\u001b[K\u001b]8;;https://gcc.gnu.org/onlinedocs/gcc/Warning-Options.html#index-Wdeprecated-declarations\u0007-Wdeprecated-declarations\u001b]8;;\u0007\u001b[m\u001b[K]\n",
            "   53 |                 if \u001b[01;35m\u001b[K(!buf.check\u001b[m\u001b[K()) {\n",
            "      |                    \u001b[01;35m\u001b[K~~~~~~~~~^~\u001b[m\u001b[K\n",
            "\u001b[01m\u001b[K/content/instant-ngp/dependencies/pybind11/include/pybind11/numpy.h:682:385:\u001b[m\u001b[K \u001b[01;36m\u001b[Knote: \u001b[m\u001b[Kdeclared here\n",
            "  682 |     PYBIND11_OBJECT_CVT(array, buffer, detail::npy_api::get().PyArray_Check_, raw_array)\n",
            "      |                                                                                                                                                                                                                                                                                                                                                                                                 \u001b[01;36m\u001b[K^\u001b[m\u001b[K    \n",
            "/content/instant-ngp/dependencies/tiny-cuda-nn/include/tiny-cuda-nn/vec_pybind11.h: In instantiation of ‘\u001b[01m\u001b[Kbool pybind11::detail::type_caster<tcnn::tvec<T, N>, void>::load(pybind11::handle, bool) [with T = float; unsigned int N = 4]\u001b[m\u001b[K’:\n",
            "\u001b[01m\u001b[K/content/instant-ngp/dependencies/pybind11/include/pybind11/cast.h:1427:47:\u001b[m\u001b[K   required from ‘\u001b[01m\u001b[Kbool pybind11::detail::argument_loader<Args>::load_impl_sequence(pybind11::detail::function_call&, std::index_sequence<Is ...>) [with long unsigned int ...Is = {0, 1}; Args = {ngp::Testbed&, const tcnn::tvec<float, 4, 4>&}; std::index_sequence<Is ...> = std::integer_sequence<long unsigned int, 0, 1>]\u001b[m\u001b[K’\n",
            "\u001b[01m\u001b[K/content/instant-ngp/dependencies/pybind11/include/pybind11/cast.h:1401:64:\u001b[m\u001b[K   required from ‘\u001b[01m\u001b[Kbool pybind11::detail::argument_loader<Args>::load_args(pybind11::detail::function_call&) [with Args = {ngp::Testbed&, const tcnn::tvec<float, 4, 4>&}]\u001b[m\u001b[K’\n",
            "\u001b[01m\u001b[K/content/instant-ngp/dependencies/pybind11/include/pybind11/pybind11.h:228:30:\u001b[m\u001b[K   required from ‘\u001b[01m\u001b[Kvoid pybind11::cpp_function::initialize(Func&&, Return (*)(Args ...), const Extra& ...) [with Func = pybind11::class_<ngp::Testbed>::def_readwrite<ngp::Testbed, tcnn::tvec<float, 4, 4> >(const char*, tcnn::tvec<float, 4, 4> ngp::Testbed::*)::<lambda(pybind11::class_<ngp::Testbed>::type&, const tcnn::tvec<float, 4, 4>&)>; Return = void; Args = {ngp::Testbed&, const tcnn::tvec<float, 4, 4>&}; Extra = {pybind11::is_method}]\u001b[m\u001b[K’\n",
            "\u001b[01m\u001b[K/content/instant-ngp/dependencies/pybind11/include/pybind11/pybind11.h:100:11:\u001b[m\u001b[K   required from ‘\u001b[01m\u001b[Kpybind11::cpp_function::cpp_function(Func&&, const Extra& ...) [with Func = pybind11::class_<ngp::Testbed>::def_readwrite<ngp::Testbed, tcnn::tvec<float, 4, 4> >(const char*, tcnn::tvec<float, 4, 4> ngp::Testbed::*)::<lambda(pybind11::class_<ngp::Testbed>::type&, const tcnn::tvec<float, 4, 4>&)>; Extra = {pybind11::is_method}; <template-parameter-1-3> = void]\u001b[m\u001b[K’\n",
            "\u001b[01m\u001b[K/content/instant-ngp/dependencies/pybind11/include/pybind11/pybind11.h:1657:1:\u001b[m\u001b[K   required from ‘\u001b[01m\u001b[Kpybind11::class_<type_, options>& pybind11::class_<type_, options>::def_readwrite(const char*, D C::*, const Extra& ...) [with C = ngp::Testbed; D = tcnn::tvec<float, 4, 4>; Extra = {}; type_ = ngp::Testbed; options = {}]\u001b[m\u001b[K’\n",
            "\u001b[01m\u001b[K/content/instant-ngp/src/python_api.cu:383:0:\u001b[m\u001b[K   required from here\n",
            "\u001b[01m\u001b[K/content/instant-ngp/dependencies/tiny-cuda-nn/include/tiny-cuda-nn/vec_pybind11.h:52:33:\u001b[m\u001b[K \u001b[01;35m\u001b[Kwarning: \u001b[m\u001b[K‘\u001b[01m\u001b[Kpybind11::array_t<T, ExtraFlags>::array_t(pybind11::handle, bool) [with T = float; int ExtraFlags = 16]\u001b[m\u001b[K’ is deprecated: Use array_t<T>::ensure() instead [\u001b[01;35m\u001b[K\u001b]8;;https://gcc.gnu.org/onlinedocs/gcc/Warning-Options.html#index-Wdeprecated-declarations\u0007-Wdeprecated-declarations\u001b]8;;\u0007\u001b[m\u001b[K]\n",
            "   52 |                 array_t<Scalar> \u001b[01;35m\u001b[Kbuf\u001b[m\u001b[K(src, true);\n",
            "      |                                 \u001b[01;35m\u001b[K^~~\u001b[m\u001b[K\n",
            "\u001b[01m\u001b[K/content/instant-ngp/dependencies/pybind11/include/pybind11/numpy.h:1037:1:\u001b[m\u001b[K \u001b[01;36m\u001b[Knote: \u001b[m\u001b[Kdeclared here\n",
            " 1037 | \u001b[01;36m\u001b[K    arr\u001b[m\u001b[Kay_t(handle h, bool is_borrowed) : array(raw_array_t(h.ptr()), stolen_t{}) {\n",
            "      | \u001b[01;36m\u001b[K^\u001b[m\u001b[K   \u001b[01;36m\u001b[K~~~\u001b[m\u001b[K\n",
            "\u001b[01m\u001b[K/content/instant-ngp/dependencies/tiny-cuda-nn/include/tiny-cuda-nn/vec_pybind11.h:53:29:\u001b[m\u001b[K \u001b[01;35m\u001b[Kwarning: \u001b[m\u001b[K‘\u001b[01m\u001b[Kbool pybind11::array::check() const\u001b[m\u001b[K’ is deprecated: Use py::isinstance<py::python_type>(obj) instead [\u001b[01;35m\u001b[K\u001b]8;;https://gcc.gnu.org/onlinedocs/gcc/Warning-Options.html#index-Wdeprecated-declarations\u0007-Wdeprecated-declarations\u001b]8;;\u0007\u001b[m\u001b[K]\n",
            "   53 |                 if \u001b[01;35m\u001b[K(!buf.check\u001b[m\u001b[K()) {\n",
            "      |                    \u001b[01;35m\u001b[K~~~~~~~~~^~\u001b[m\u001b[K\n",
            "\u001b[01m\u001b[K/content/instant-ngp/dependencies/pybind11/include/pybind11/numpy.h:682:385:\u001b[m\u001b[K \u001b[01;36m\u001b[Knote: \u001b[m\u001b[Kdeclared here\n",
            "  682 |     PYBIND11_OBJECT_CVT(array, buffer, detail::npy_api::get().PyArray_Check_, raw_array)\n",
            "      |                                                                                                                                                                                                                                                                                                                                                                                                 \u001b[01;36m\u001b[K^\u001b[m\u001b[K    \n",
            "/content/instant-ngp/dependencies/tiny-cuda-nn/include/tiny-cuda-nn/vec_pybind11.h: In instantiation of ‘\u001b[01m\u001b[Kbool pybind11::detail::type_caster<tcnn::tmat<T, N, M>, void>::load(pybind11::handle, bool) [with T = float; unsigned int N = 3; unsigned int M = 3]\u001b[m\u001b[K’:\n",
            "\u001b[01m\u001b[K/content/instant-ngp/dependencies/pybind11/include/pybind11/cast.h:1427:47:\u001b[m\u001b[K   required from ‘\u001b[01m\u001b[Kbool pybind11::detail::argument_loader<Args>::load_impl_sequence(pybind11::detail::function_call&, std::index_sequence<Is ...>) [with long unsigned int ...Is = {0, 1}; Args = {ngp::Testbed&, const tcnn::tmat<float, 3, 3>&}; std::index_sequence<Is ...> = std::integer_sequence<long unsigned int, 0, 1>]\u001b[m\u001b[K’\n",
            "\u001b[01m\u001b[K/content/instant-ngp/dependencies/pybind11/include/pybind11/cast.h:1401:64:\u001b[m\u001b[K   required from ‘\u001b[01m\u001b[Kbool pybind11::detail::argument_loader<Args>::load_args(pybind11::detail::function_call&) [with Args = {ngp::Testbed&, const tcnn::tmat<float, 3, 3>&}]\u001b[m\u001b[K’\n",
            "\u001b[01m\u001b[K/content/instant-ngp/dependencies/pybind11/include/pybind11/pybind11.h:228:30:\u001b[m\u001b[K   required from ‘\u001b[01m\u001b[Kvoid pybind11::cpp_function::initialize(Func&&, Return (*)(Args ...), const Extra& ...) [with Func = pybind11::class_<ngp::Testbed>::def_readwrite<ngp::Testbed, tcnn::tmat<float, 3, 3> >(const char*, tcnn::tmat<float, 3, 3> ngp::Testbed::*)::<lambda(pybind11::class_<ngp::Testbed>::type&, const tcnn::tmat<float, 3, 3>&)>; Return = void; Args = {ngp::Testbed&, const tcnn::tmat<float, 3, 3>&}; Extra = {pybind11::is_method}]\u001b[m\u001b[K’\n",
            "\u001b[01m\u001b[K/content/instant-ngp/dependencies/pybind11/include/pybind11/pybind11.h:100:11:\u001b[m\u001b[K   required from ‘\u001b[01m\u001b[Kpybind11::cpp_function::cpp_function(Func&&, const Extra& ...) [with Func = pybind11::class_<ngp::Testbed>::def_readwrite<ngp::Testbed, tcnn::tmat<float, 3, 3> >(const char*, tcnn::tmat<float, 3, 3> ngp::Testbed::*)::<lambda(pybind11::class_<ngp::Testbed>::type&, const tcnn::tmat<float, 3, 3>&)>; Extra = {pybind11::is_method}; <template-parameter-1-3> = void]\u001b[m\u001b[K’\n",
            "\u001b[01m\u001b[K/content/instant-ngp/dependencies/pybind11/include/pybind11/pybind11.h:1657:1:\u001b[m\u001b[K   required from ‘\u001b[01m\u001b[Kpybind11::class_<type_, options>& pybind11::class_<type_, options>::def_readwrite(const char*, D C::*, const Extra& ...) [with C = ngp::Testbed; D = tcnn::tmat<float, 3, 3>; Extra = {}; type_ = ngp::Testbed; options = {}]\u001b[m\u001b[K’\n",
            "\u001b[01m\u001b[K/content/instant-ngp/src/python_api.cu:383:0:\u001b[m\u001b[K   required from here\n",
            "\u001b[01m\u001b[K/content/instant-ngp/dependencies/tiny-cuda-nn/include/tiny-cuda-nn/vec_pybind11.h:91:33:\u001b[m\u001b[K \u001b[01;35m\u001b[Kwarning: \u001b[m\u001b[K‘\u001b[01m\u001b[Kpybind11::array_t<T, ExtraFlags>::array_t(pybind11::handle, bool) [with T = float; int ExtraFlags = 16]\u001b[m\u001b[K’ is deprecated: Use array_t<T>::ensure() instead [\u001b[01;35m\u001b[K\u001b]8;;https://gcc.gnu.org/onlinedocs/gcc/Warning-Options.html#index-Wdeprecated-declarations\u0007-Wdeprecated-declarations\u001b]8;;\u0007\u001b[m\u001b[K]\n",
            "   91 |                 array_t<Scalar> \u001b[01;35m\u001b[Kbuf\u001b[m\u001b[K(src, true);\n",
            "      |                                 \u001b[01;35m\u001b[K^~~\u001b[m\u001b[K\n",
            "\u001b[01m\u001b[K/content/instant-ngp/dependencies/pybind11/include/pybind11/numpy.h:1037:1:\u001b[m\u001b[K \u001b[01;36m\u001b[Knote: \u001b[m\u001b[Kdeclared here\n",
            " 1037 | \u001b[01;36m\u001b[K    arr\u001b[m\u001b[Kay_t(handle h, bool is_borrowed) : array(raw_array_t(h.ptr()), stolen_t{}) {\n",
            "      | \u001b[01;36m\u001b[K^\u001b[m\u001b[K   \u001b[01;36m\u001b[K~~~\u001b[m\u001b[K\n",
            "\u001b[01m\u001b[K/content/instant-ngp/dependencies/tiny-cuda-nn/include/tiny-cuda-nn/vec_pybind11.h:92:29:\u001b[m\u001b[K \u001b[01;35m\u001b[Kwarning: \u001b[m\u001b[K‘\u001b[01m\u001b[Kbool pybind11::array::check() const\u001b[m\u001b[K’ is deprecated: Use py::isinstance<py::python_type>(obj) instead [\u001b[01;35m\u001b[K\u001b]8;;https://gcc.gnu.org/onlinedocs/gcc/Warning-Options.html#index-Wdeprecated-declarations\u0007-Wdeprecated-declarations\u001b]8;;\u0007\u001b[m\u001b[K]\n",
            "   92 |                 if \u001b[01;35m\u001b[K(!buf.check\u001b[m\u001b[K()) {\n",
            "      |                    \u001b[01;35m\u001b[K~~~~~~~~~^~\u001b[m\u001b[K\n",
            "\u001b[01m\u001b[K/content/instant-ngp/dependencies/pybind11/include/pybind11/numpy.h:682:385:\u001b[m\u001b[K \u001b[01;36m\u001b[Knote: \u001b[m\u001b[Kdeclared here\n",
            "  682 |     PYBIND11_OBJECT_CVT(array, buffer, detail::npy_api::get().PyArray_Check_, raw_array)\n",
            "      |                                                                                                                                                                                                                                                                                                                                                                                                 \u001b[01;36m\u001b[K^\u001b[m\u001b[K    \n",
            "/content/instant-ngp/dependencies/tiny-cuda-nn/include/tiny-cuda-nn/vec_pybind11.h: In instantiation of ‘\u001b[01m\u001b[Kbool pybind11::detail::type_caster<tcnn::tvec<T, N>, void>::load(pybind11::handle, bool) [with T = float; unsigned int N = 2]\u001b[m\u001b[K’:\n",
            "\u001b[01m\u001b[K/content/instant-ngp/dependencies/pybind11/include/pybind11/cast.h:1427:47:\u001b[m\u001b[K   required from ‘\u001b[01m\u001b[Kbool pybind11::detail::argument_loader<Args>::load_impl_sequence(pybind11::detail::function_call&, std::index_sequence<Is ...>) [with long unsigned int ...Is = {0, 1}; Args = {ngp::Testbed*, const tcnn::tvec<float, 2, 4>&}; std::index_sequence<Is ...> = std::integer_sequence<long unsigned int, 0, 1>]\u001b[m\u001b[K’\n",
            "\u001b[01m\u001b[K/content/instant-ngp/dependencies/pybind11/include/pybind11/cast.h:1401:64:\u001b[m\u001b[K   required from ‘\u001b[01m\u001b[Kbool pybind11::detail::argument_loader<Args>::load_args(pybind11::detail::function_call&) [with Args = {ngp::Testbed*, const tcnn::tvec<float, 2, 4>&}]\u001b[m\u001b[K’\n",
            "\u001b[01m\u001b[K/content/instant-ngp/dependencies/pybind11/include/pybind11/pybind11.h:228:30:\u001b[m\u001b[K   required from ‘\u001b[01m\u001b[Kvoid pybind11::cpp_function::initialize(Func&&, Return (*)(Args ...), const Extra& ...) [with Func = pybind11::cpp_function::cpp_function<void, ngp::Testbed, const tcnn::tvec<float, 2, 4>&>(void (ngp::Testbed::*)(const tcnn::tvec<float, 2, 4>&))::<lambda(ngp::Testbed*, const tcnn::tvec<float, 2, 4>&)>; Return = void; Args = {ngp::Testbed*, const tcnn::tvec<float, 2, 4>&}; Extra = {}]\u001b[m\u001b[K’\n",
            "\u001b[01m\u001b[K/content/instant-ngp/dependencies/pybind11/include/pybind11/pybind11.h:108:11:\u001b[m\u001b[K   required from ‘\u001b[01m\u001b[Kpybind11::cpp_function::cpp_function(Return (Class::*)(Arg ...), const Extra& ...) [with Return = void; Class = ngp::Testbed; Arg = {const tcnn::tvec<float, 2, 4>&}; Extra = {}]\u001b[m\u001b[K’\n",
            "\u001b[01m\u001b[K/content/instant-ngp/dependencies/pybind11/include/pybind11/pybind11.h:1722:34:\u001b[m\u001b[K   required from ‘\u001b[01m\u001b[Kpybind11::class_<type_, options>& pybind11::class_<type_, options>::def_property(const char*, const Getter&, const Setter&, const Extra& ...) [with Getter = tcnn::tvec<float, 2, 4> (ngp::Testbed::*)() const; Setter = void (ngp::Testbed::*)(const tcnn::tvec<float, 2, 4>&); Extra = {}; type_ = ngp::Testbed; options = {}]\u001b[m\u001b[K’\n",
            "\u001b[01m\u001b[K/content/instant-ngp/src/python_api.cu:383:0:\u001b[m\u001b[K   required from here\n",
            "\u001b[01m\u001b[K/content/instant-ngp/dependencies/tiny-cuda-nn/include/tiny-cuda-nn/vec_pybind11.h:52:33:\u001b[m\u001b[K \u001b[01;35m\u001b[Kwarning: \u001b[m\u001b[K‘\u001b[01m\u001b[Kpybind11::array_t<T, ExtraFlags>::array_t(pybind11::handle, bool) [with T = float; int ExtraFlags = 16]\u001b[m\u001b[K’ is deprecated: Use array_t<T>::ensure() instead [\u001b[01;35m\u001b[K\u001b]8;;https://gcc.gnu.org/onlinedocs/gcc/Warning-Options.html#index-Wdeprecated-declarations\u0007-Wdeprecated-declarations\u001b]8;;\u0007\u001b[m\u001b[K]\n",
            "   52 |                 array_t<Scalar> \u001b[01;35m\u001b[Kbuf\u001b[m\u001b[K(src, true);\n",
            "      |                                 \u001b[01;35m\u001b[K^~~\u001b[m\u001b[K\n",
            "\u001b[01m\u001b[K/content/instant-ngp/dependencies/pybind11/include/pybind11/numpy.h:1037:1:\u001b[m\u001b[K \u001b[01;36m\u001b[Knote: \u001b[m\u001b[Kdeclared here\n",
            " 1037 | \u001b[01;36m\u001b[K    arr\u001b[m\u001b[Kay_t(handle h, bool is_borrowed) : array(raw_array_t(h.ptr()), stolen_t{}) {\n",
            "      | \u001b[01;36m\u001b[K^\u001b[m\u001b[K   \u001b[01;36m\u001b[K~~~\u001b[m\u001b[K\n",
            "\u001b[01m\u001b[K/content/instant-ngp/dependencies/tiny-cuda-nn/include/tiny-cuda-nn/vec_pybind11.h:53:29:\u001b[m\u001b[K \u001b[01;35m\u001b[Kwarning: \u001b[m\u001b[K‘\u001b[01m\u001b[Kbool pybind11::array::check() const\u001b[m\u001b[K’ is deprecated: Use py::isinstance<py::python_type>(obj) instead [\u001b[01;35m\u001b[K\u001b]8;;https://gcc.gnu.org/onlinedocs/gcc/Warning-Options.html#index-Wdeprecated-declarations\u0007-Wdeprecated-declarations\u001b]8;;\u0007\u001b[m\u001b[K]\n",
            "   53 |                 if \u001b[01;35m\u001b[K(!buf.check\u001b[m\u001b[K()) {\n",
            "      |                    \u001b[01;35m\u001b[K~~~~~~~~~^~\u001b[m\u001b[K\n",
            "\u001b[01m\u001b[K/content/instant-ngp/dependencies/pybind11/include/pybind11/numpy.h:682:385:\u001b[m\u001b[K \u001b[01;36m\u001b[Knote: \u001b[m\u001b[Kdeclared here\n",
            "  682 |     PYBIND11_OBJECT_CVT(array, buffer, detail::npy_api::get().PyArray_Check_, raw_array)\n",
            "      |                                                                                                                                                                                                                                                                                                                                                                                                 \u001b[01;36m\u001b[K^\u001b[m\u001b[K    \n",
            "/content/instant-ngp/dependencies/tiny-cuda-nn/include/tiny-cuda-nn/vec_pybind11.h: In instantiation of ‘\u001b[01m\u001b[Kbool pybind11::detail::type_caster<tcnn::tmat<T, N, M>, void>::load(pybind11::handle, bool) [with T = float; unsigned int N = 4; unsigned int M = 3]\u001b[m\u001b[K’:\n",
            "\u001b[01m\u001b[K/content/instant-ngp/dependencies/pybind11/include/pybind11/cast.h:1427:47:\u001b[m\u001b[K   required from ‘\u001b[01m\u001b[Kbool pybind11::detail::argument_loader<Args>::load_impl_sequence(pybind11::detail::function_call&, std::index_sequence<Is ...>) [with long unsigned int ...Is = {0, 1}; Args = {ngp::Testbed*, const tcnn::tmat<float, 4, 3>&}; std::index_sequence<Is ...> = std::integer_sequence<long unsigned int, 0, 1>]\u001b[m\u001b[K’\n",
            "\u001b[01m\u001b[K/content/instant-ngp/dependencies/pybind11/include/pybind11/cast.h:1401:64:\u001b[m\u001b[K   required from ‘\u001b[01m\u001b[Kbool pybind11::detail::argument_loader<Args>::load_args(pybind11::detail::function_call&) [with Args = {ngp::Testbed*, const tcnn::tmat<float, 4, 3>&}]\u001b[m\u001b[K’\n",
            "\u001b[01m\u001b[K/content/instant-ngp/dependencies/pybind11/include/pybind11/pybind11.h:228:30:\u001b[m\u001b[K   required from ‘\u001b[01m\u001b[Kvoid pybind11::cpp_function::initialize(Func&&, Return (*)(Args ...), const Extra& ...) [with Func = pybind11::cpp_function::cpp_function<void, ngp::Testbed, const tcnn::tmat<float, 4, 3>&, pybind11::name, pybind11::is_method, pybind11::sibling>(void (ngp::Testbed::*)(const tcnn::tmat<float, 4, 3>&), const pybind11::name&, const pybind11::is_method&, const pybind11::sibling&)::<lambda(ngp::Testbed*, const tcnn::tmat<float, 4, 3>&)>; Return = void; Args = {ngp::Testbed*, const tcnn::tmat<float, 4, 3>&}; Extra = {pybind11::name, pybind11::is_method, pybind11::sibling}]\u001b[m\u001b[K’\n",
            "\u001b[01m\u001b[K/content/instant-ngp/dependencies/pybind11/include/pybind11/pybind11.h:108:11:\u001b[m\u001b[K   required from ‘\u001b[01m\u001b[Kpybind11::cpp_function::cpp_function(Return (Class::*)(Arg ...), const Extra& ...) [with Return = void; Class = ngp::Testbed; Arg = {const tcnn::tmat<float, 4, 3>&}; Extra = {pybind11::name, pybind11::is_method, pybind11::sibling}]\u001b[m\u001b[K’\n",
            "\u001b[01m\u001b[K/content/instant-ngp/dependencies/pybind11/include/pybind11/pybind11.h:1558:14:\u001b[m\u001b[K   required from ‘\u001b[01m\u001b[Kpybind11::class_<type_, options>& pybind11::class_<type_, options>::def(const char*, Func&&, const Extra& ...) [with Func = void (ngp::Testbed::*)(const tcnn::tmat<float, 4, 3>&); Extra = {}; type_ = ngp::Testbed; options = {}]\u001b[m\u001b[K’\n",
            "\u001b[01m\u001b[K/content/instant-ngp/src/python_api.cu:383:0:\u001b[m\u001b[K   required from here\n",
            "\u001b[01m\u001b[K/content/instant-ngp/dependencies/tiny-cuda-nn/include/tiny-cuda-nn/vec_pybind11.h:91:33:\u001b[m\u001b[K \u001b[01;35m\u001b[Kwarning: \u001b[m\u001b[K‘\u001b[01m\u001b[Kpybind11::array_t<T, ExtraFlags>::array_t(pybind11::handle, bool) [with T = float; int ExtraFlags = 16]\u001b[m\u001b[K’ is deprecated: Use array_t<T>::ensure() instead [\u001b[01;35m\u001b[K\u001b]8;;https://gcc.gnu.org/onlinedocs/gcc/Warning-Options.html#index-Wdeprecated-declarations\u0007-Wdeprecated-declarations\u001b]8;;\u0007\u001b[m\u001b[K]\n",
            "   91 |                 array_t<Scalar> \u001b[01;35m\u001b[Kbuf\u001b[m\u001b[K(src, true);\n",
            "      |                                 \u001b[01;35m\u001b[K^~~\u001b[m\u001b[K\n",
            "\u001b[01m\u001b[K/content/instant-ngp/dependencies/pybind11/include/pybind11/numpy.h:1037:1:\u001b[m\u001b[K \u001b[01;36m\u001b[Knote: \u001b[m\u001b[Kdeclared here\n",
            " 1037 | \u001b[01;36m\u001b[K    arr\u001b[m\u001b[Kay_t(handle h, bool is_borrowed) : array(raw_array_t(h.ptr()), stolen_t{}) {\n",
            "      | \u001b[01;36m\u001b[K^\u001b[m\u001b[K   \u001b[01;36m\u001b[K~~~\u001b[m\u001b[K\n",
            "\u001b[01m\u001b[K/content/instant-ngp/dependencies/tiny-cuda-nn/include/tiny-cuda-nn/vec_pybind11.h:92:29:\u001b[m\u001b[K \u001b[01;35m\u001b[Kwarning: \u001b[m\u001b[K‘\u001b[01m\u001b[Kbool pybind11::array::check() const\u001b[m\u001b[K’ is deprecated: Use py::isinstance<py::python_type>(obj) instead [\u001b[01;35m\u001b[K\u001b]8;;https://gcc.gnu.org/onlinedocs/gcc/Warning-Options.html#index-Wdeprecated-declarations\u0007-Wdeprecated-declarations\u001b]8;;\u0007\u001b[m\u001b[K]\n",
            "   92 |                 if \u001b[01;35m\u001b[K(!buf.check\u001b[m\u001b[K()) {\n",
            "      |                    \u001b[01;35m\u001b[K~~~~~~~~~^~\u001b[m\u001b[K\n",
            "\u001b[01m\u001b[K/content/instant-ngp/dependencies/pybind11/include/pybind11/numpy.h:682:385:\u001b[m\u001b[K \u001b[01;36m\u001b[Knote: \u001b[m\u001b[Kdeclared here\n",
            "  682 |     PYBIND11_OBJECT_CVT(array, buffer, detail::npy_api::get().PyArray_Check_, raw_array)\n",
            "      |                                                                                                                                                                                                                                                                                                                                                                                                 \u001b[01;36m\u001b[K^\u001b[m\u001b[K    \n",
            "/content/instant-ngp/dependencies/tiny-cuda-nn/include/tiny-cuda-nn/vec_pybind11.h: In instantiation of ‘\u001b[01m\u001b[Kbool pybind11::detail::type_caster<tcnn::tvec<T, N>, void>::load(pybind11::handle, bool) [with T = int; unsigned int N = 2]\u001b[m\u001b[K’:\n",
            "\u001b[01m\u001b[K/content/instant-ngp/dependencies/pybind11/include/pybind11/cast.h:1427:47:\u001b[m\u001b[K   required from ‘\u001b[01m\u001b[Kbool pybind11::detail::argument_loader<Args>::load_impl_sequence(pybind11::detail::function_call&, std::index_sequence<Is ...>) [with long unsigned int ...Is = {0, 1}; Args = {ngp::TrainingImageMetadata&, const tcnn::tvec<int, 2, 4>&}; std::index_sequence<Is ...> = std::integer_sequence<long unsigned int, 0, 1>]\u001b[m\u001b[K’\n",
            "\u001b[01m\u001b[K/content/instant-ngp/dependencies/pybind11/include/pybind11/cast.h:1401:64:\u001b[m\u001b[K   required from ‘\u001b[01m\u001b[Kbool pybind11::detail::argument_loader<Args>::load_args(pybind11::detail::function_call&) [with Args = {ngp::TrainingImageMetadata&, const tcnn::tvec<int, 2, 4>&}]\u001b[m\u001b[K’\n",
            "\u001b[01m\u001b[K/content/instant-ngp/dependencies/pybind11/include/pybind11/pybind11.h:228:30:\u001b[m\u001b[K   required from ‘\u001b[01m\u001b[Kvoid pybind11::cpp_function::initialize(Func&&, Return (*)(Args ...), const Extra& ...) [with Func = pybind11::class_<ngp::TrainingImageMetadata>::def_readwrite<ngp::TrainingImageMetadata, tcnn::tvec<int, 2, 4> >(const char*, tcnn::tvec<int, 2, 4> ngp::TrainingImageMetadata::*)::<lambda(pybind11::class_<ngp::TrainingImageMetadata>::type&, const tcnn::tvec<int, 2, 4>&)>; Return = void; Args = {ngp::TrainingImageMetadata&, const tcnn::tvec<int, 2, 4>&}; Extra = {pybind11::is_method}]\u001b[m\u001b[K’\n",
            "\u001b[01m\u001b[K/content/instant-ngp/dependencies/pybind11/include/pybind11/pybind11.h:100:11:\u001b[m\u001b[K   required from ‘\u001b[01m\u001b[Kpybind11::cpp_function::cpp_function(Func&&, const Extra& ...) [with Func = pybind11::class_<ngp::TrainingImageMetadata>::def_readwrite<ngp::TrainingImageMetadata, tcnn::tvec<int, 2, 4> >(const char*, tcnn::tvec<int, 2, 4> ngp::TrainingImageMetadata::*)::<lambda(pybind11::class_<ngp::TrainingImageMetadata>::type&, const tcnn::tvec<int, 2, 4>&)>; Extra = {pybind11::is_method}; <template-parameter-1-3> = void]\u001b[m\u001b[K’\n",
            "\u001b[01m\u001b[K/content/instant-ngp/dependencies/pybind11/include/pybind11/pybind11.h:1657:1:\u001b[m\u001b[K   required from ‘\u001b[01m\u001b[Kpybind11::class_<type_, options>& pybind11::class_<type_, options>::def_readwrite(const char*, D C::*, const Extra& ...) [with C = ngp::TrainingImageMetadata; D = tcnn::tvec<int, 2, 4>; Extra = {}; type_ = ngp::TrainingImageMetadata; options = {}]\u001b[m\u001b[K’\n",
            "\u001b[01m\u001b[K/content/instant-ngp/src/python_api.cu:616:140:\u001b[m\u001b[K   required from here\n",
            "\u001b[01m\u001b[K/content/instant-ngp/dependencies/tiny-cuda-nn/include/tiny-cuda-nn/vec_pybind11.h:52:33:\u001b[m\u001b[K \u001b[01;35m\u001b[Kwarning: \u001b[m\u001b[K‘\u001b[01m\u001b[Kpybind11::array_t<T, ExtraFlags>::array_t(pybind11::handle, bool) [with T = int; int ExtraFlags = 16]\u001b[m\u001b[K’ is deprecated: Use array_t<T>::ensure() instead [\u001b[01;35m\u001b[K\u001b]8;;https://gcc.gnu.org/onlinedocs/gcc/Warning-Options.html#index-Wdeprecated-declarations\u0007-Wdeprecated-declarations\u001b]8;;\u0007\u001b[m\u001b[K]\n",
            "   52 |                 array_t<Scalar> \u001b[01;35m\u001b[Kbuf\u001b[m\u001b[K(src, true);\n",
            "      |                                 \u001b[01;35m\u001b[K^~~\u001b[m\u001b[K\n",
            "\u001b[01m\u001b[K/content/instant-ngp/dependencies/pybind11/include/pybind11/numpy.h:1037:1:\u001b[m\u001b[K \u001b[01;36m\u001b[Knote: \u001b[m\u001b[Kdeclared here\n",
            " 1037 | \u001b[01;36m\u001b[K    arr\u001b[m\u001b[Kay_t(handle h, bool is_borrowed) : array(raw_array_t(h.ptr()), stolen_t{}) {\n",
            "      | \u001b[01;36m\u001b[K^\u001b[m\u001b[K   \u001b[01;36m\u001b[K~~~\u001b[m\u001b[K\n",
            "\u001b[01m\u001b[K/content/instant-ngp/dependencies/tiny-cuda-nn/include/tiny-cuda-nn/vec_pybind11.h:53:29:\u001b[m\u001b[K \u001b[01;35m\u001b[Kwarning: \u001b[m\u001b[K‘\u001b[01m\u001b[Kbool pybind11::array::check() const\u001b[m\u001b[K’ is deprecated: Use py::isinstance<py::python_type>(obj) instead [\u001b[01;35m\u001b[K\u001b]8;;https://gcc.gnu.org/onlinedocs/gcc/Warning-Options.html#index-Wdeprecated-declarations\u0007-Wdeprecated-declarations\u001b]8;;\u0007\u001b[m\u001b[K]\n",
            "   53 |                 if \u001b[01;35m\u001b[K(!buf.check\u001b[m\u001b[K()) {\n",
            "      |                    \u001b[01;35m\u001b[K~~~~~~~~~^~\u001b[m\u001b[K\n",
            "\u001b[01m\u001b[K/content/instant-ngp/dependencies/pybind11/include/pybind11/numpy.h:682:385:\u001b[m\u001b[K \u001b[01;36m\u001b[Knote: \u001b[m\u001b[Kdeclared here\n",
            "  682 |     PYBIND11_OBJECT_CVT(array, buffer, detail::npy_api::get().PyArray_Check_, raw_array)\n",
            "      |                                                                                                                                                                                                                                                                                                                                                                                                 \u001b[01;36m\u001b[K^\u001b[m\u001b[K    \n",
            "[100%] \u001b[32m\u001b[1mLinking CXX shared library pyngp.cpython-310-x86_64-linux-gnu.so\u001b[0m\n",
            "[100%] Built target pyngp\n"
          ]
        }
      ],
      "source": [
        "!cmake --build build --config RelWithDebInfo -j `nproc`"
      ]
    },
    {
      "cell_type": "code",
      "execution_count": null,
      "metadata": {
        "id": "1bUaehXN4vC8",
        "colab": {
          "base_uri": "https://localhost:8080/"
        },
        "outputId": "7a94102b-3f68-4563-a9a2-59c78cd96472"
      },
      "outputs": [
        {
          "output_type": "stream",
          "name": "stdout",
          "text": [
            "Collecting commentjson (from -r requirements.txt (line 1))\n",
            "  Downloading commentjson-0.9.0.tar.gz (8.7 kB)\n",
            "  Preparing metadata (setup.py) ... \u001b[?25l\u001b[?25hdone\n",
            "Requirement already satisfied: imageio in /usr/local/lib/python3.10/dist-packages (from -r requirements.txt (line 2)) (2.31.6)\n",
            "Requirement already satisfied: numpy in /usr/local/lib/python3.10/dist-packages (from -r requirements.txt (line 3)) (1.25.2)\n",
            "Requirement already satisfied: opencv-python-headless in /usr/local/lib/python3.10/dist-packages (from -r requirements.txt (line 4)) (4.10.0.84)\n",
            "Collecting pybind11 (from -r requirements.txt (line 5))\n",
            "  Downloading pybind11-2.12.0-py3-none-any.whl (234 kB)\n",
            "\u001b[2K     \u001b[90m━━━━━━━━━━━━━━━━━━━━━━━━━━━━━━━━━━━━━━━━\u001b[0m \u001b[32m235.0/235.0 kB\u001b[0m \u001b[31m8.8 MB/s\u001b[0m eta \u001b[36m0:00:00\u001b[0m\n",
            "\u001b[?25hCollecting pyquaternion (from -r requirements.txt (line 6))\n",
            "  Downloading pyquaternion-0.9.9-py3-none-any.whl (14 kB)\n",
            "Requirement already satisfied: scipy in /usr/local/lib/python3.10/dist-packages (from -r requirements.txt (line 7)) (1.11.4)\n",
            "Requirement already satisfied: tqdm in /usr/local/lib/python3.10/dist-packages (from -r requirements.txt (line 8)) (4.66.4)\n",
            "Collecting lark-parser<0.8.0,>=0.7.1 (from commentjson->-r requirements.txt (line 1))\n",
            "  Downloading lark-parser-0.7.8.tar.gz (276 kB)\n",
            "\u001b[2K     \u001b[90m━━━━━━━━━━━━━━━━━━━━━━━━━━━━━━━━━━━━━━━━\u001b[0m \u001b[32m276.2/276.2 kB\u001b[0m \u001b[31m13.8 MB/s\u001b[0m eta \u001b[36m0:00:00\u001b[0m\n",
            "\u001b[?25h  Preparing metadata (setup.py) ... \u001b[?25l\u001b[?25hdone\n",
            "Requirement already satisfied: pillow<10.1.0,>=8.3.2 in /usr/local/lib/python3.10/dist-packages (from imageio->-r requirements.txt (line 2)) (9.4.0)\n",
            "Building wheels for collected packages: commentjson, lark-parser\n",
            "  Building wheel for commentjson (setup.py) ... \u001b[?25l\u001b[?25hdone\n",
            "  Created wheel for commentjson: filename=commentjson-0.9.0-py3-none-any.whl size=12074 sha256=ebe5ed6d9824ba9b20d8f8827f384b46c7458d3b95cc50d755d3ac95b905b760\n",
            "  Stored in directory: /root/.cache/pip/wheels/7d/90/23/6358a234ca5b4ec0866d447079b97fedf9883387d1d7d074e5\n",
            "  Building wheel for lark-parser (setup.py) ... \u001b[?25l\u001b[?25hdone\n",
            "  Created wheel for lark-parser: filename=lark_parser-0.7.8-py2.py3-none-any.whl size=62510 sha256=7feaa53639aa98cca2990edb945a6dd6cfcc54250ccbced49e7a3b06e38cacfd\n",
            "  Stored in directory: /root/.cache/pip/wheels/29/30/94/33e8b58318aa05cb1842b365843036e0280af5983abb966b83\n",
            "Successfully built commentjson lark-parser\n",
            "Installing collected packages: lark-parser, pyquaternion, pybind11, commentjson\n",
            "Successfully installed commentjson-0.9.0 lark-parser-0.7.8 pybind11-2.12.0 pyquaternion-0.9.9\n"
          ]
        }
      ],
      "source": [
        "!pip3 install -r requirements.txt"
      ]
    },
    {
      "cell_type": "code",
      "execution_count": null,
      "metadata": {
        "colab": {
          "base_uri": "https://localhost:8080/"
        },
        "id": "nRbv2emo7A_h",
        "outputId": "87fcf8c1-0005-41e0-8846-34ced2134b9c"
      },
      "outputs": [
        {
          "output_type": "stream",
          "name": "stdout",
          "text": [
            "running ffmpeg with input video file=\"./resources/video.mp4\", output image folder=\"./resources/images\", fps=6.0.\n",
            "==== running: mkdir \"./resources/images\"\n",
            "==== running: ffmpeg -i \"./resources/video.mp4\" -qscale:v 1 -qmin 1 -vf \"fps=6.0\" \"./resources/images\"/%04d.jpg\n",
            "ffmpeg version 4.4.2-0ubuntu0.22.04.1 Copyright (c) 2000-2021 the FFmpeg developers\n",
            "  built with gcc 11 (Ubuntu 11.2.0-19ubuntu1)\n",
            "  configuration: --prefix=/usr --extra-version=0ubuntu0.22.04.1 --toolchain=hardened --libdir=/usr/lib/x86_64-linux-gnu --incdir=/usr/include/x86_64-linux-gnu --arch=amd64 --enable-gpl --disable-stripping --enable-gnutls --enable-ladspa --enable-libaom --enable-libass --enable-libbluray --enable-libbs2b --enable-libcaca --enable-libcdio --enable-libcodec2 --enable-libdav1d --enable-libflite --enable-libfontconfig --enable-libfreetype --enable-libfribidi --enable-libgme --enable-libgsm --enable-libjack --enable-libmp3lame --enable-libmysofa --enable-libopenjpeg --enable-libopenmpt --enable-libopus --enable-libpulse --enable-librabbitmq --enable-librubberband --enable-libshine --enable-libsnappy --enable-libsoxr --enable-libspeex --enable-libsrt --enable-libssh --enable-libtheora --enable-libtwolame --enable-libvidstab --enable-libvorbis --enable-libvpx --enable-libwebp --enable-libx265 --enable-libxml2 --enable-libxvid --enable-libzimg --enable-libzmq --enable-libzvbi --enable-lv2 --enable-omx --enable-openal --enable-opencl --enable-opengl --enable-sdl2 --enable-pocketsphinx --enable-librsvg --enable-libmfx --enable-libdc1394 --enable-libdrm --enable-libiec61883 --enable-chromaprint --enable-frei0r --enable-libx264 --enable-shared\n",
            "  libavutil      56. 70.100 / 56. 70.100\n",
            "  libavcodec     58.134.100 / 58.134.100\n",
            "  libavformat    58. 76.100 / 58. 76.100\n",
            "  libavdevice    58. 13.100 / 58. 13.100\n",
            "  libavfilter     7.110.100 /  7.110.100\n",
            "  libswscale      5.  9.100 /  5.  9.100\n",
            "  libswresample   3.  9.100 /  3.  9.100\n",
            "  libpostproc    55.  9.100 / 55.  9.100\n",
            "\u001b[1;31m./resources/video.mp4: No such file or directory\n",
            "\u001b[0mFATAL: command failed\n"
          ]
        }
      ],
      "source": [
        "#!python scripts/colmap2nerf.py --video_in ./resources/video.mp4 --video_fps 6 --run_colmap --overwrite"
      ]
    },
    {
      "cell_type": "code",
      "execution_count": null,
      "metadata": {
        "id": "_r3Oc6bQ43-V"
      },
      "outputs": [],
      "source": [
        "import os\n",
        "scene_path = \"/content/instant-ngp/resources/data\" #@param {type:\"string\"}\n",
        "if not os.path.isdir(scene_path):\n",
        "  raise NotADirectoryError(scene_path)"
      ]
    },
    {
      "cell_type": "code",
      "execution_count": null,
      "metadata": {
        "id": "LB2oCG_w6Axs"
      },
      "outputs": [],
      "source": [
        "train_steps = 5000 #@param {type:\"integer\"}\n",
        "snapshot_path = os.path.join(scene_path, f\"3DModelOutput.ingp\") # The output model path and name\n",
        "output_mesh_path = os.path.join(scene_path, f\"MeshOutput.obj\") # The output mesh path and name\n",
        "mesh_dens_threshold = 1 #@param {type:\"integer\"}\n",
        "mesh_res = 256 #@param {type:\"integer\"}\n",
        "# !python ./scripts/run.py {scene_path} --n_steps {train_steps} --save_snapshot {snapshot_path}\n",
        "!python ./scripts/run.py {scene_path} --n_steps {train_steps} --save_snapshot {snapshot_path} --save_mesh {output_mesh_path} --marching_cubes_res {mesh_res} --marching_cubes_density_thresh {mesh_dens_threshold}\n"
      ]
    }
  ],
  "metadata": {
    "accelerator": "GPU",
    "colab": {
      "provenance": [],
      "include_colab_link": true
    },
    "kernelspec": {
      "display_name": "Python 3",
      "name": "python3"
    },
    "language_info": {
      "name": "python"
    }
  },
  "nbformat": 4,
  "nbformat_minor": 0
}